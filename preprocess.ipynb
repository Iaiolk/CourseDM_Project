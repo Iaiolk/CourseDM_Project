{
 "cells": [
  {
   "cell_type": "code",
   "execution_count": 1,
   "metadata": {},
   "outputs": [],
   "source": [
    "import numpy as np\n",
    "import pandas as pd\n",
    "import seaborn as sns\n",
    "import matplotlib.pyplot as plt"
   ]
  },
  {
   "cell_type": "code",
   "execution_count": 3,
   "metadata": {},
   "outputs": [
    {
     "name": "stdout",
     "output_type": "stream",
     "text": [
      "city29 \n",
      "19\n",
      "---------------------\n",
      "city34\n",
      "21\n",
      "---------------------\n"
     ]
    }
   ],
   "source": [
    "input_data = pd.read_csv('data/dataA/merge_rawdata(no_ageStructure).csv')\n",
    "# print(input_data.head())\n",
    "# print(input_data.columns)\n",
    "# print(input_data.describe())\n",
    "# '城市名称', '年份', '人均消费支出', '人均可支配收入', '从业人员数', '第一产业从业人员数', '第二产业从业人员数',\n",
    "# '第三产业从业人员数', '常住人口（万人）', '户籍人口（万人）', '人口密度（人/平方公里）', '农村居民消费支出',\n",
    "# '农村居民人均收入', '城镇居民消费支出', '城镇居民人均收入', '城镇失业率', '城镇化率', '工资水平'\n",
    "groups = input_data.groupby('城市名称',sort=False)\n",
    "for name, group in groups:\n",
    "  if len(group)!=22 and len(group)!=23:\n",
    "    print(name)\n",
    "    print(len(group))\n",
    "    print('---------------------')"
   ]
  }
 ],
 "metadata": {
  "kernelspec": {
   "display_name": "gp",
   "language": "python",
   "name": "python3"
  },
  "language_info": {
   "codemirror_mode": {
    "name": "ipython",
    "version": 3
   },
   "file_extension": ".py",
   "mimetype": "text/x-python",
   "name": "python",
   "nbconvert_exporter": "python",
   "pygments_lexer": "ipython3",
   "version": "3.12.2"
  }
 },
 "nbformat": 4,
 "nbformat_minor": 2
}
